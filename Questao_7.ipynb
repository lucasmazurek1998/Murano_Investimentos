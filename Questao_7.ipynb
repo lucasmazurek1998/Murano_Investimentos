{
 "cells": [
  {
   "cell_type": "code",
   "execution_count": 1,
   "metadata": {},
   "outputs": [],
   "source": [
    "import pandas as pd"
   ]
  },
  {
   "cell_type": "code",
   "execution_count": 6,
   "metadata": {},
   "outputs": [],
   "source": [
    "colunas =['DRE', 'CURSO', 'NOME', 'GENERO', 'NASCIMENTO',\n",
    "            'ALTURA', 'PESO', 'CRA', 'CRO', 'RENDA']\n",
    "\n",
    "MEDIDAS = {'MEDIA' : 'mean' , 'CONTAGEM':'count', 'SOMA' : 'sum', \n",
    "           'MEDIANA' : 'median', 'DESVIO_PADRAO' : 'std', 'VARIANCIA':'var', \n",
    "           'COVARIANCIA':'cov', 'CONTAGEM': 'count'}"
   ]
  },
  {
   "cell_type": "code",
   "execution_count": 7,
   "metadata": {},
   "outputs": [],
   "source": [
    "def Cadastro(StudentInfo):\n",
    "    \n",
    "    global colunas\n",
    "    \n",
    "# LENDO DATABASE OU CONSTRUINDO NOVO DF\n",
    "    try:\n",
    "        df = pd.read_csv('DataBase.csv',decimal = ',', sep =';')\n",
    "        \n",
    "    except:\n",
    "        df = pd.DataFrame(columns = colunas)\n",
    "    \n",
    "    \n",
    "    df.loc[len(df),colunas] = list(StudentInfo.values())\n",
    "    \n",
    "# TRATANDO COLUNAS\n",
    "\n",
    "    df[['DRE','CRO']] = df[['DRE','CRO']].astype(int)\n",
    "    df[['ALTURA', 'PESO', 'CRA', 'RENDA']] = df[['ALTURA', 'PESO', 'CRA', 'RENDA']].astype(float)\n",
    "    \n",
    "    df.to_csv('DataBase.csv',decimal = ',', sep =';', index = False)\n",
    "    \n",
    "    return df\n",
    "    "
   ]
  },
  {
   "cell_type": "code",
   "execution_count": 5,
   "metadata": {},
   "outputs": [],
   "source": [
    "def getStatistics(atribute, measure, grupo):\n",
    "    \n",
    "    df = pd.read_csv('DataBase.csv', decimal = ',', sep =';')\n",
    "    \n",
    "    measure = MEDIDAS[measure]\n",
    "    \n",
    "    try:\n",
    "        if measure != 'cov':        \n",
    "            stastics = df.groupby(grupo, as_index = False).agg({atribute : measure})\n",
    "\n",
    "        else:\n",
    "\n",
    "            stastics = df[[grupo, atribute]].groupby(grupo).cov()\n",
    "\n",
    "        return stastics\n",
    "    \n",
    "    except:\n",
    "\n",
    "        print('Nao foi possivel calcular essa estatistica')\n",
    "    "
   ]
  },
  {
   "cell_type": "code",
   "execution_count": 20,
   "metadata": {},
   "outputs": [],
   "source": [
    "# POR FAVOR, COLOQUE AS INFORMAÇÕES DO ALUNO ABAIXO\n",
    "\n",
    "StudentInfo = {\n",
    "'DRE' : 161189240,\n",
    "    \n",
    "'Curso' : 'Biblioteconomia',\n",
    "\n",
    "'Nome' : 'Anna Goulart',\n",
    "\n",
    "'Genero' : 'Feminino',\n",
    "\n",
    "# COLOCAR NO FORMATO YYYY-MM-DD\n",
    "'Nascimento' : '1999-04-13',\n",
    "\n",
    "# AKTURA EM METROS\n",
    "'altura' : 1.56,\n",
    "\n",
    "'peso' : 48,\n",
    "\n",
    "'cra' : 9.0,\n",
    "\n",
    "'cro' : 90,\n",
    "\n",
    "'renda' : 7500}"
   ]
  },
  {
   "cell_type": "code",
   "execution_count": 21,
   "metadata": {},
   "outputs": [
    {
     "output_type": "execute_result",
     "data": {
      "text/plain": "          DRE                   CURSO             NOME     GENERO  NASCIMENTO  \\\n0   117043280  Engenharia de Producao    Lucas Mazurek  Masculino  1998-12-10   \n1   116172989             Arquitetura  Nicole Ciscotto   Feminino  1998-06-20   \n2  1161729230             Arquitetura   Barbara Amorim   Feminino  1998-06-13   \n3   161189240         Biblioteconomia     Anna Goulart   Feminino  1999-04-13   \n\n   ALTURA  PESO  CRA  CRO    RENDA  \n0    1.00  82.0  7.0  135   2000.0  \n1    1.63  49.0  8.5  135   1000.0  \n2    1.63  52.0  8.0  140  10000.0  \n3    1.56  48.0  9.0   90   7500.0  ",
      "text/html": "<div>\n<style scoped>\n    .dataframe tbody tr th:only-of-type {\n        vertical-align: middle;\n    }\n\n    .dataframe tbody tr th {\n        vertical-align: top;\n    }\n\n    .dataframe thead th {\n        text-align: right;\n    }\n</style>\n<table border=\"1\" class=\"dataframe\">\n  <thead>\n    <tr style=\"text-align: right;\">\n      <th></th>\n      <th>DRE</th>\n      <th>CURSO</th>\n      <th>NOME</th>\n      <th>GENERO</th>\n      <th>NASCIMENTO</th>\n      <th>ALTURA</th>\n      <th>PESO</th>\n      <th>CRA</th>\n      <th>CRO</th>\n      <th>RENDA</th>\n    </tr>\n  </thead>\n  <tbody>\n    <tr>\n      <th>0</th>\n      <td>117043280</td>\n      <td>Engenharia de Producao</td>\n      <td>Lucas Mazurek</td>\n      <td>Masculino</td>\n      <td>1998-12-10</td>\n      <td>1.00</td>\n      <td>82.0</td>\n      <td>7.0</td>\n      <td>135</td>\n      <td>2000.0</td>\n    </tr>\n    <tr>\n      <th>1</th>\n      <td>116172989</td>\n      <td>Arquitetura</td>\n      <td>Nicole Ciscotto</td>\n      <td>Feminino</td>\n      <td>1998-06-20</td>\n      <td>1.63</td>\n      <td>49.0</td>\n      <td>8.5</td>\n      <td>135</td>\n      <td>1000.0</td>\n    </tr>\n    <tr>\n      <th>2</th>\n      <td>1161729230</td>\n      <td>Arquitetura</td>\n      <td>Barbara Amorim</td>\n      <td>Feminino</td>\n      <td>1998-06-13</td>\n      <td>1.63</td>\n      <td>52.0</td>\n      <td>8.0</td>\n      <td>140</td>\n      <td>10000.0</td>\n    </tr>\n    <tr>\n      <th>3</th>\n      <td>161189240</td>\n      <td>Biblioteconomia</td>\n      <td>Anna Goulart</td>\n      <td>Feminino</td>\n      <td>1999-04-13</td>\n      <td>1.56</td>\n      <td>48.0</td>\n      <td>9.0</td>\n      <td>90</td>\n      <td>7500.0</td>\n    </tr>\n  </tbody>\n</table>\n</div>"
     },
     "metadata": {},
     "execution_count": 21
    }
   ],
   "source": [
    "# CADASTRA ALUNOS\n",
    "\n",
    "df = Cadastro(StudentInfo)\n",
    "df"
   ]
  },
  {
   "cell_type": "code",
   "execution_count": 46,
   "metadata": {},
   "outputs": [],
   "source": [
    "def EditaCadastro(atribute, dre, new_value):\n",
    "\n",
    "    df = pd.read_csv('DataBase.csv',decimal = ',', sep =';')\n",
    "\n",
    "    try:\n",
    "\n",
    "        index = df[df['DRE'] == dre].index.values[0]\n",
    "        df.loc[index,atribute] = new_value\n",
    "\n",
    "        df.to_csv('DataBase.csv',decimal = ',', sep =';', index = False)\n",
    "    \n",
    "        return df\n",
    "\n",
    "    except:\n",
    "\n",
    "        print('Nao ha cadastros nesse DRE')"
   ]
  },
  {
   "cell_type": "code",
   "execution_count": 49,
   "metadata": {},
   "outputs": [
    {
     "output_type": "execute_result",
     "data": {
      "text/plain": "          DRE                   CURSO             NOME     GENERO  NASCIMENTO  \\\n0   117043280  Engenharia de Producao    Lucas Mazurek  Masculino  1998-12-10   \n1   116172989             Arquitetura  Nicole Ciscotto   Feminino  1998-06-20   \n2  1161729230             Arquitetura   Barbara Amorim   Feminino  1998-06-13   \n3   161189240         Biblioteconomia     Anna Goulart   Feminino  1999-04-13   \n\n   ALTURA  PESO  CRA  CRO    RENDA  \n0    1.88  82.0  7.0  135   2000.0  \n1    1.63  49.0  8.5  135   1000.0  \n2    1.63  52.0  8.0  140  10000.0  \n3    1.56  48.0  9.0   90   7500.0  ",
      "text/html": "<div>\n<style scoped>\n    .dataframe tbody tr th:only-of-type {\n        vertical-align: middle;\n    }\n\n    .dataframe tbody tr th {\n        vertical-align: top;\n    }\n\n    .dataframe thead th {\n        text-align: right;\n    }\n</style>\n<table border=\"1\" class=\"dataframe\">\n  <thead>\n    <tr style=\"text-align: right;\">\n      <th></th>\n      <th>DRE</th>\n      <th>CURSO</th>\n      <th>NOME</th>\n      <th>GENERO</th>\n      <th>NASCIMENTO</th>\n      <th>ALTURA</th>\n      <th>PESO</th>\n      <th>CRA</th>\n      <th>CRO</th>\n      <th>RENDA</th>\n    </tr>\n  </thead>\n  <tbody>\n    <tr>\n      <th>0</th>\n      <td>117043280</td>\n      <td>Engenharia de Producao</td>\n      <td>Lucas Mazurek</td>\n      <td>Masculino</td>\n      <td>1998-12-10</td>\n      <td>1.88</td>\n      <td>82.0</td>\n      <td>7.0</td>\n      <td>135</td>\n      <td>2000.0</td>\n    </tr>\n    <tr>\n      <th>1</th>\n      <td>116172989</td>\n      <td>Arquitetura</td>\n      <td>Nicole Ciscotto</td>\n      <td>Feminino</td>\n      <td>1998-06-20</td>\n      <td>1.63</td>\n      <td>49.0</td>\n      <td>8.5</td>\n      <td>135</td>\n      <td>1000.0</td>\n    </tr>\n    <tr>\n      <th>2</th>\n      <td>1161729230</td>\n      <td>Arquitetura</td>\n      <td>Barbara Amorim</td>\n      <td>Feminino</td>\n      <td>1998-06-13</td>\n      <td>1.63</td>\n      <td>52.0</td>\n      <td>8.0</td>\n      <td>140</td>\n      <td>10000.0</td>\n    </tr>\n    <tr>\n      <th>3</th>\n      <td>161189240</td>\n      <td>Biblioteconomia</td>\n      <td>Anna Goulart</td>\n      <td>Feminino</td>\n      <td>1999-04-13</td>\n      <td>1.56</td>\n      <td>48.0</td>\n      <td>9.0</td>\n      <td>90</td>\n      <td>7500.0</td>\n    </tr>\n  </tbody>\n</table>\n</div>"
     },
     "metadata": {},
     "execution_count": 49
    }
   ],
   "source": [
    "# # COLOCAR NA ORDEM => COLUNA, DRE E NOVO_VALOR\n",
    "EditaCadastro('ALTURA', 1161729230, 1.63)"
   ]
  },
  {
   "cell_type": "code",
   "execution_count": 28,
   "metadata": {},
   "outputs": [
    {
     "output_type": "execute_result",
     "data": {
      "text/plain": "                    CURSO   CRA\n0             Arquitetura  8.25\n1         Biblioteconomia  9.00\n2  Engenharia de Producao  7.00",
      "text/html": "<div>\n<style scoped>\n    .dataframe tbody tr th:only-of-type {\n        vertical-align: middle;\n    }\n\n    .dataframe tbody tr th {\n        vertical-align: top;\n    }\n\n    .dataframe thead th {\n        text-align: right;\n    }\n</style>\n<table border=\"1\" class=\"dataframe\">\n  <thead>\n    <tr style=\"text-align: right;\">\n      <th></th>\n      <th>CURSO</th>\n      <th>CRA</th>\n    </tr>\n  </thead>\n  <tbody>\n    <tr>\n      <th>0</th>\n      <td>Arquitetura</td>\n      <td>8.25</td>\n    </tr>\n    <tr>\n      <th>1</th>\n      <td>Biblioteconomia</td>\n      <td>9.00</td>\n    </tr>\n    <tr>\n      <th>2</th>\n      <td>Engenharia de Producao</td>\n      <td>7.00</td>\n    </tr>\n  </tbody>\n</table>\n</div>"
     },
     "metadata": {},
     "execution_count": 28
    }
   ],
   "source": [
    "# TIPOS DE ATRIBUTO => CURSO, GENERO, ALTURA, PESO, CRA, CRO, RENDA, DRE\n",
    "\n",
    "# TIPOS DE MEDIDA => MEDIA, CONTAGEM, SOMA, MEDIANA, DESVIO_PADRAO, VARIANCIA, COVARIANCIA\n",
    "\n",
    "# TIPOS DE GRUPO => CURSO, DRE, GENERO\n",
    "\n",
    "# COLOCAR NA ORDEM => ATRIBUTO, MEDIDA E GRUPO\n",
    "\n",
    "getStatistics('CRA', 'MEDIA', 'CURSO')"
   ]
  }
 ],
 "metadata": {
  "kernelspec": {
   "display_name": "Python 3",
   "language": "python",
   "name": "python3"
  },
  "language_info": {
   "codemirror_mode": {
    "name": "ipython",
    "version": 3
   },
   "file_extension": ".py",
   "mimetype": "text/x-python",
   "name": "python",
   "nbconvert_exporter": "python",
   "pygments_lexer": "ipython3",
   "version": "3.7.4-final"
  }
 },
 "nbformat": 4,
 "nbformat_minor": 4
}