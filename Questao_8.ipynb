{
 "cells": [
  {
   "cell_type": "code",
   "execution_count": 9,
   "metadata": {},
   "outputs": [],
   "source": [
    "import pandas as pd\n",
    "from multiprocessing.dummy import Pool as ThreadPool\n",
    "from multiprocessing import Lock\n",
    "import random\n",
    "import numpy as np\n",
    "import timeit\n",
    "import pickle"
   ]
  },
  {
   "cell_type": "code",
   "execution_count": 51,
   "metadata": {
    "tags": []
   },
   "outputs": [],
   "source": [
    "def GetRandomlist(N):\n",
    " \n",
    "    parciallist = []\n",
    "\n",
    "    for i in range(10):\n",
    "\n",
    "        print(i)\n",
    "\n",
    "        for i in range(0,int(N/10)):\n",
    "            \n",
    "            n = random.randint(-50,50)\n",
    "            \n",
    "            parciallist.append(n)\n",
    "\n",
    "    return parciallist"
   ]
  },
  {
   "cell_type": "code",
   "execution_count": 13,
   "metadata": {},
   "outputs": [],
   "source": [
    "def split_array(lista,K):\n",
    "#  DIVIDE ARRAY PARA REALIZAR A THREAD\n",
    "\n",
    "    split_list = []\n",
    "    split = np.array_split(lista, K)\n",
    "\n",
    "    for array in split:\n",
    "        split_list.append(list(array))\n",
    "\n",
    "    return split_list\n",
    "    "
   ]
  },
  {
   "cell_type": "code",
   "execution_count": 12,
   "metadata": {
    "tags": []
   },
   "outputs": [],
   "source": [
    "## GERA LISTA ALEATÓRIA DE N NUMEROS NO INTERVALO [-50;50]\n",
    "# lista5 = GetRandomlist(100000)\n",
    "# lista7 = GetRandomlist(10000000)\n",
    "\n",
    "\n",
    "# -- EDIT ==> NAO CONSEGUI GERAR UMA LISTA DE 10^9 NUMEROS PORQUE O PROGRAMA PARECE NAO ACEITAR LISTAS MAIORES QUE 7 X 10^8 NUMEROS, APROXIMADAMENTE, ENTAO GEREI UMA LISTA DE 10^8 NUMEROS ALEATORIOS\n",
    "\n",
    "# lista8 = GetRandomlist(100000000)"
   ]
  },
  {
   "cell_type": "code",
   "execution_count": 14,
   "metadata": {},
   "outputs": [],
   "source": [
    "def MultiSum(lista,K):\n",
    "#  FUNCAO QUE QUE REALIZA A THREAD\n",
    "\n",
    "    split_list = split_array(lista,K)\n",
    "    \n",
    "    lock = Lock()\n",
    "    pool = ThreadPool(K)\n",
    "    results = pool.map(Soma,split_list)\n",
    "    pool.close() \n",
    "    pool.join()\n",
    "    print('Fim Multi Sum')"
   ]
  },
  {
   "cell_type": "code",
   "execution_count": 15,
   "metadata": {},
   "outputs": [],
   "source": [
    "def Soma(lista):\n",
    "\n",
    "    lock.acquire() # will block if lock is already held\n",
    "    \n",
    "    global total\n",
    "    \n",
    "    total += pd.DataFrame(lista).sum().values[0]\n",
    "\n",
    "    \n",
    "    lock.release()"
   ]
  },
  {
   "cell_type": "code",
   "execution_count": 16,
   "metadata": {
    "tags": []
   },
   "outputs": [
    {
     "output_type": "stream",
     "name": "stdout",
     "text": "0\n1\n2\n"
    }
   ],
   "source": [
    "salvo = ['lista5','lista7', 'lista8']\n",
    "listas = [[],[],[]]\n",
    "\n",
    "for i in range ( len(listas)):\n",
    "\n",
    "# SALVA AS LISTAS EM ARQUIVOS PICKLE\n",
    "\n",
    "    # with open(salvo[i] +\".txt\", \"wb\") as fp:   #Pickling\n",
    "    #     pickle.dump(listas[i], fp)\n",
    "\n",
    "# PEGA LISTAS JA SALVAS# PEGA LISTAS JA SALVAS\n",
    "    with open(salvo[i]+\".txt\", \"rb\") as fp:   # Unpickling\n",
    "        print(i)\n",
    "        listas[i] = pickle.load(fp)"
   ]
  },
  {
   "cell_type": "code",
   "execution_count": 24,
   "metadata": {},
   "outputs": [],
   "source": [
    "Ks = [1,2,4,8,16]"
   ]
  },
  {
   "cell_type": "code",
   "execution_count": 39,
   "metadata": {
    "tags": [
     "outputPrepend"
    ]
   },
   "outputs": [
    {
     "output_type": "stream",
     "name": "stdout",
     "text": "708280000060768\nFim Multi Sum\n0.12094669999987673\nFim Multi Sum\n0.11820749999969848\nFim Multi Sum\n0.1310263000004852\nFim Multi Sum\n0.12215259999993577\nFim Multi Sum\n0.11707949999981793\nFim Multi Sum\n0.11906089999956748\nFim Multi Sum\n0.12337139999999636\nFim Multi Sum\n0.12455020000015793\nFim Multi Sum\n0.1193397000006371\nFim Multi Sum\n0.11740550000013172\nFim Multi Sum\n0.11649009999928239\nFim Multi Sum\n0.12048070000037114\nFim Multi Sum\n0.12212129999988974\nFim Multi Sum\n0.13037319999966712\nFim Multi Sum\n0.13289399999939633\nFim Multi Sum\n0.1253484999997454\nFim Multi Sum\n0.11827780000021448\nFim Multi Sum\n0.11943999999948574\nFim Multi Sum\n0.1249694999996791\nFim Multi Sum\n0.13264150000031805\nFim Multi Sum\n0.12497929999972257\nFim Multi Sum\n0.1271240999994916\nFim Multi Sum\n0.12069210000026942\nFim Multi Sum\n0.1225322000000233\nFim Multi Sum\n0.11786639999991166\nFim Multi Sum\n0.12182109999957902\nFim Multi Sum\n0.1232399999998961\nFim Multi Sum\n0.12457300000005489\nFim Multi Sum\n0.13430270000026212\nFim Multi Sum\n0.13023859999975684\nFim Multi Sum\n0.13489759999993112\nFim Multi Sum\n0.124522999999499\nFim Multi Sum\n0.12141599999995378\nFim Multi Sum\n0.12275059999956284\nFim Multi Sum\n0.13370089999989432\nFim Multi Sum\n0.12748300000021118\nFim Multi Sum\n0.1259817000000112\nFim Multi Sum\n0.12518860000000132\nFim Multi Sum\n0.12990440000066883\nFim Multi Sum\n0.12321140000040032\nFim Multi Sum\n0.12211179999940214\nFim Multi Sum\n0.1247443000002022\nFim Multi Sum\n0.12015049999990879\nFim Multi Sum\n0.1200989999997546\nFim Multi Sum\n0.12566349999997328\nFim Multi Sum\n0.12475160000030883\nFim Multi Sum\n0.12837409999974625\nFim Multi Sum\n0.12287339999966207\nFim Multi Sum\n0.11972380000042904\nFim Multi Sum\n0.11976020000020071\nFim Multi Sum\n0.12236360000042623\nFim Multi Sum\n0.12685419999979786\nFim Multi Sum\n0.12064169999939622\nFim Multi Sum\n0.12164469999970606\nFim Multi Sum\n0.11976750000030734\nFim Multi Sum\n0.12378940000053262\nFim Multi Sum\n0.1196338999998261\nFim Multi Sum\n0.12991969999984576\nFim Multi Sum\n0.12055190000046423\nFim Multi Sum\n0.11717200000020966\nFim Multi Sum\n0.13714470000013534\nFim Multi Sum\n0.1253885000005539\nFim Multi Sum\n0.1325636999999915\nFim Multi Sum\n0.12788019999970857\nFim Multi Sum\n0.12955500000043685\nFim Multi Sum\n0.12579200000072888\nFim Multi Sum\n0.11960379999982251\nFim Multi Sum\n0.12190860000009707\nFim Multi Sum\n0.1359109000004537\nFim Multi Sum\n0.1253694999995787\nFim Multi Sum\n0.12433980000059819\nFim Multi Sum\n0.12554829999953654\nFim Multi Sum\n0.13721580000037648\nFim Multi Sum\n0.12511429999995016\nFim Multi Sum\n0.12263439999969705\nFim Multi Sum\n0.12320879999970202\nFim Multi Sum\n0.14046020000023418\nFim Multi Sum\n0.1268503999999666\nFim Multi Sum\n0.12202980000074604\nFim Multi Sum\n0.12180199999966135\nFim Multi Sum\n0.12159179999980552\nFim Multi Sum\n0.12023339999996097\nFim Multi Sum\n0.12142479999965872\nFim Multi Sum\n0.12162499999976717\nFim Multi Sum\n0.12102200000026642\nFim Multi Sum\n0.12393189999966125\nFim Multi Sum\n0.12601549999999406\nFim Multi Sum\n0.12676300000021\nFim Multi Sum\n0.12178210000001854\nFim Multi Sum\n0.11938840000038908\nFim Multi Sum\n0.12204380000002857\nFim Multi Sum\n0.12302839999938442\nFim Multi Sum\n0.12124040000071545\nFim Multi Sum\n0.12151910000011412\nFim Multi Sum\n0.12345579999964684\nFim Multi Sum\n0.12681309999970836\nFim Multi Sum\n0.120776300000216\nFim Multi Sum\n0.12049369999931514\nFim Multi Sum\n0.13759419999951206\nFim Multi Sum\n0.12767970000004425\nFim Multi Sum\n0.1271471999998539\nFim Multi Sum\n0.1255764999996245\nFim Multi Sum\n0.12519560000055208\nFim Multi Sum\n0.13814969999930327\nFim Multi Sum\n0.13512600000012753\nFim Multi Sum\n0.12866000000030908\nFim Multi Sum\n0.1197546000003058\nFim Multi Sum\n0.12106080000012298\nFim Multi Sum\n0.12299390000043786\nFim Multi Sum\n0.12166530000013154\nFim Multi Sum\n0.11918299999979354\nFim Multi Sum\n0.12187330000051588\nFim Multi Sum\n0.12524339999981748\nFim Multi Sum\n4.43564570000035\nFim Multi Sum\n3.732282099999793\nFim Multi Sum\n3.773712500000329\nFim Multi Sum\n3.741521699999794\nFim Multi Sum\n3.6150413000004846\nFim Multi Sum\n3.777111800000057\nFim Multi Sum\n3.716770400000314\nFim Multi Sum\n3.6423102999997354\nFim Multi Sum\n3.7459015000004\nFim Multi Sum\n3.7668580999998085\nFim Multi Sum\n3.6831959000001007\nFim Multi Sum\n3.7436937000002217\nFim Multi Sum\n3.6168936999993093\nFim Multi Sum\n3.670227600000544\nFim Multi Sum\n3.809747299999799\nFim Multi Sum\n3.736593100000391\nFim Multi Sum\n3.718369899999743\nFim Multi Sum\n3.7520708000001832\nFim Multi Sum\n3.852091400000063\nFim Multi Sum\n3.7783140000001367\nFim Multi Sum\n3.760929799999758\nFim Multi Sum\n3.5991140000005544\nFim Multi Sum\n3.723280700000032\nFim Multi Sum\n3.7347718999999415\nFim Multi Sum\n3.727679100000387\nFim Multi Sum\n3.748529200000121\nFim Multi Sum\n3.7937086000001727\nFim Multi Sum\n3.8611597999997684\nFim Multi Sum\n3.7985745999994833\nFim Multi Sum\n3.72495760000038\nFim Multi Sum\n3.7497204000001148\nFim Multi Sum\n3.792156700000305\nFim Multi Sum\n3.6867272000008597\nFim Multi Sum\n3.775766699999622\nFim Multi Sum\n3.80261690000043\nFim Multi Sum\n3.7953484000008757\nFim Multi Sum\n3.7534466000006432\nFim Multi Sum\n3.7981181000004653\nFim Multi Sum\n3.7597560000003796\nFim Multi Sum\n3.7043932999995377\nFim Multi Sum\n3.7298625000003085\nFim Multi Sum\n3.8376109000000724\nFim Multi Sum\n3.7614551999995456\nFim Multi Sum\n3.7178069999999934\nFim Multi Sum\n3.836865900000703\nFim Multi Sum\n3.8176294999993843\nFim Multi Sum\n3.7388694999999643\nFim Multi Sum\n3.735327700000198\nFim Multi Sum\n3.7179691999999704\nFim Multi Sum\n4.073778900000434\nFim Multi Sum\n3.7464777000004688\nFim Multi Sum\n3.745639300000221\nFim Multi Sum\n3.754895299999589\nFim Multi Sum\n3.7437941999996838\nFim Multi Sum\n3.7479388000001563\nFim Multi Sum\n4.174705200000062\nFim Multi Sum\n4.162978199999998\nFim Multi Sum\n3.750879499999428\nFim Multi Sum\n3.9647594999996727\nFim Multi Sum\n4.255178800000067\nFim Multi Sum\n3.8450195000004896\nFim Multi Sum\n3.7870793000001868\nFim Multi Sum\n3.8740082000003895\nFim Multi Sum\n3.7315657000008287\nFim Multi Sum\n3.761444499999925\nFim Multi Sum\n3.742869700000483\nFim Multi Sum\n3.7684252999997625\nFim Multi Sum\n3.7525015999999596\nFim Multi Sum\n3.7431767999996737\nFim Multi Sum\n3.7580066999998962\nFim Multi Sum\n3.748333000000457\nFim Multi Sum\n3.7462934999994104\nFim Multi Sum\n3.756155900000522\nFim Multi Sum\n3.7832329999992\nFim Multi Sum\n3.749784499999805\nFim Multi Sum\n3.714609599999676\nFim Multi Sum\n3.7059505999995963\nFim Multi Sum\n3.7926025999995545\nFim Multi Sum\n3.7599380999999994\nFim Multi Sum\n3.7091521000002103\nFim Multi Sum\n3.719842100000278\nFim Multi Sum\n4.048439600000165\nFim Multi Sum\n3.7471426000001884\nFim Multi Sum\n3.718593300000066\nFim Multi Sum\n3.7291486000003715\nFim Multi Sum\n3.7118972999996913\nFim Multi Sum\n3.7412458999997398\nFim Multi Sum\n3.7555018000002747\nFim Multi Sum\n4.6637964999999895\nFim Multi Sum\n3.948335699999916\nFim Multi Sum\n3.8040278000007675\nFim Multi Sum\n3.748367700000017\nFim Multi Sum\n3.7554392000001826\nFim Multi Sum\n3.7896954999996524\nFim Multi Sum\n3.7258558000003177\nFim Multi Sum\n3.7597061999995276\nFim Multi Sum\n3.758277900000394\nFim Multi Sum\n3.73773650000021\nFim Multi Sum\n3.744614199999887\nFim Multi Sum\n3.730184499999268\nFim Multi Sum\n3.7545995000000403\nFim Multi Sum\n3.8139605999995183\nFim Multi Sum\n3.729748599999766\nFim Multi Sum\n3.728659699999298\nFim Multi Sum\n3.8003863999992973\nFim Multi Sum\n3.75712139999996\nFim Multi Sum\n4.155049300000428\nFim Multi Sum\n3.8080902000001515\nFim Multi Sum\n3.9167029999998704\nFim Multi Sum\n3.9025055000001885\nFim Multi Sum\n3.7478697999995347\nFim Multi Sum\n3.7463723999999274\nFim Multi Sum\n3.797986100000344\nFim Multi Sum\n3.7630074999997305\nFim Multi Sum\n3.937952999999652\nFim Multi Sum\n3.807701200000338\nFim Multi Sum\n3.7749236999998175\nFim Multi Sum\n3.7780065999995713\nFim Multi Sum\n3.8378081000000748\nFim Multi Sum\n3.7649099999998725\nFim Multi Sum\n3.996915099999569\nFim Multi Sum\n3.748291099999733\nFim Multi Sum\n4.0104096999994\nFim Multi Sum\n3.783535500000653\nFim Multi Sum\n3.8601394999996046\nFim Multi Sum\n3.7881663999996817\nFim Multi Sum\n3.799178000000211\nFim Multi Sum\n3.7878461000000243\nFim Multi Sum\n3.806675699999687\nFim Multi Sum\n3.760187599999881\nFim Multi Sum\n3.771773000000394\nFim Multi Sum\n3.7529821999996784\nFim Multi Sum\n3.747473400000672\nFim Multi Sum\n3.7939173999993727\nFim Multi Sum\n3.756501300000309\nFim Multi Sum\n3.790495999999621\nFim Multi Sum\n3.7973889999993844\nFim Multi Sum\n3.7686841999993703\nFim Multi Sum\n3.7627377999997407\nFim Multi Sum\n3.7746603000005052\nFim Multi Sum\n3.804038899999796\nFim Multi Sum\n3.759139900000264\nFim Multi Sum\n3.7189871999999013\nFim Multi Sum\n3.806172699999479\nFim Multi Sum\n3.763669900000423\nFim Multi Sum\n3.7675865000001068\nFim Multi Sum\n3.7667105000000447\nFim Multi Sum\n3.738836299999093\nFim Multi Sum\n3.7624058999990666\nFim Multi Sum\n3.7495288999998593\nFim Multi Sum\n3.7372030000005907\nFim Multi Sum\n3.9183005999984744\nFim Multi Sum\n3.8346629999996367\nFim Multi Sum\n3.743533099999695\nFim Multi Sum\n3.764330700001665\nFim Multi Sum\n3.740551700000651\nFim Multi Sum\n3.8051582999996754\nFim Multi Sum\n3.8032982000004267\nFim Multi Sum\n3.755657199999405\nFim Multi Sum\n3.911925300000803\nFim Multi Sum\n3.7787250000001222\nFim Multi Sum\n3.839301699999851\nFim Multi Sum\n3.9164202000010846\nFim Multi Sum\n3.7393098000011378\nFim Multi Sum\n3.762442799999917\nFim Multi Sum\n3.7968062999989343\nFim Multi Sum\n3.771389800000179\nFim Multi Sum\n3.7868326999996498\nFim Multi Sum\n3.7402589000012085\nFim Multi Sum\n3.765543499999694\nFim Multi Sum\n3.74386609999965\nFim Multi Sum\n3.792073900000105\nFim Multi Sum\n3.8162136000009923\nFim Multi Sum\n3.808987700000216\nFim Multi Sum\n3.8245754999989003\nFim Multi Sum\n3.8172945999995136\nFim Multi Sum\n3.7680295999998634\nFim Multi Sum\n3.7777512000011484\nFim Multi Sum\n3.7575980000001437\nFim Multi Sum\n3.7826393999985157\nFim Multi Sum\n3.7556085999985953\nFim Multi Sum\n3.850327100000868\nFim Multi Sum\n3.7891386999999668\nFim Multi Sum\n3.806507400000555\nFim Multi Sum\n3.8062546999990445\nFim Multi Sum\n3.7598952000007557\nFim Multi Sum\n3.768711999999141\nFim Multi Sum\n3.778873699999167\nFim Multi Sum\n3.7380943999996816\nFim Multi Sum\n3.801151600000594\nFim Multi Sum\n3.9296503999994457\nFim Multi Sum\n3.787664399998903\nFim Multi Sum\n3.7874435000012454\nFim Multi Sum\n3.7957000999995216\nFim Multi Sum\n3.7883920000003855\nFim Multi Sum\n3.7794964000004256\nFim Multi Sum\n3.7494653000012477\nFim Multi Sum\n3.76236980000067\nFim Multi Sum\n3.7472487000013643\nFim Multi Sum\n3.801938299999165\nFim Multi Sum\n3.7761413999996876\nFim Multi Sum\n3.8280484000006254\nFim Multi Sum\n3.775673199999801\nFim Multi Sum\n3.8410703999998077\nFim Multi Sum\n3.850359900001422\nFim Multi Sum\n3.7770756000008987\nFim Multi Sum\n3.7786292000000685\nFim Multi Sum\n3.7700319000014133\nFim Multi Sum\n3.7652751000005082\nFim Multi Sum\n3.7543756000013673\nFim Multi Sum\n3.7861279000007926\nFim Multi Sum\n3.760926000000836\nFim Multi Sum\n3.7961249999989377\nFim Multi Sum\n3.741283999999723\nFim Multi Sum\n3.807796299999609\nFim Multi Sum\n3.787776600000143\nFim Multi Sum\n3.7716808000004676\nFim Multi Sum\n3.797942700000931\nFim Multi Sum\n6.263100000000122\nFim Multi Sum\n3.823289300000397\nFim Multi Sum\n3.779747900000075\nFim Multi Sum\n6.336132799999177\nFim Multi Sum\n3.9778929999993125\nFim Multi Sum\n3.8060163000009197\nFim Multi Sum\n6.41181940000024\nFim Multi Sum\n3.7857827999996516\nFim Multi Sum\n3.7760231000011117\nFim Multi Sum\n3.786053699999684\nFim Multi Sum\n3.81853670000055\nFim Multi Sum\n3.9263891000009608\nFim Multi Sum\n3.805744400000549\nFim Multi Sum\n3.7757500000006985\nFim Multi Sum\n3.8968563999987964\nFim Multi Sum\n3.812060100000963\nFim Multi Sum\n3.7758178999993106\nFim Multi Sum\n3.778191600000355\nFim Multi Sum\n3.7789232000013726\nFim Multi Sum\n3.8055558999985806\nFim Multi Sum\n3.770065099999556\nFim Multi Sum\n3.745845900000859\nFim Multi Sum\n3.751611199999388\nFim Multi Sum\n3.775341099999423\nFim Multi Sum\n3.7629858999989665\nFim Multi Sum\n3.7625817000007373\nFim Multi Sum\n3.77567690000069\nFim Multi Sum\n3.7642449000013585\nFim Multi Sum\n3.7731671999990795\nFim Multi Sum\n3.7562978000005387\nFim Multi Sum\n3.7905432999996265\nFim Multi Sum\n3.7976314000006823\nFim Multi Sum\n85.29958950000037\nFim Multi Sum\n73.42973040000106\nFim Multi Sum\n68.23897560000114\nFim Multi Sum\n66.36358519999885\nFim Multi Sum\n72.85577139999987\nFim Multi Sum\n71.7165017999996\nFim Multi Sum\n70.64782290000039\nFim Multi Sum\n69.92071099999885\nFim Multi Sum\n71.35273939999934\nFim Multi Sum\n70.75915480000003\nFim Multi Sum\n73.8721459999997\nFim Multi Sum\n72.79325879999851\nFim Multi Sum\n76.44848959999945\nFim Multi Sum\n68.50324170000022\nFim Multi Sum\n71.01896380000107\nFim Multi Sum\n69.603471299999\nFim Multi Sum\n71.6921315999989\nFim Multi Sum\n72.60866969999915\nFim Multi Sum\n69.10975989999861\nFim Multi Sum\n72.86439980000068\nFim Multi Sum\n65.89608220000082\nFim Multi Sum\n67.48585160000039\nFim Multi Sum\n69.66082460000143\nFim Multi Sum\n66.33652389999952\nFim Multi Sum\n71.25478380000095\nFim Multi Sum\n70.08820879999985\nFim Multi Sum\n73.1201774000001\nFim Multi Sum\n66.88200359999973\nFim Multi Sum\n75.21082860000024\nFim Multi Sum\n71.05966759999865\nFim Multi Sum\n70.6712811999987\nFim Multi Sum\n67.35842490000141\nFim Multi Sum\n69.4847037999989\nFim Multi Sum\n65.55362599999899\nFim Multi Sum\n64.35196700000051\nFim Multi Sum\n71.13150630000018\nFim Multi Sum\n74.22297179999987\nFim Multi Sum\n73.17326970000067\nFim Multi Sum\n66.61506440000085\nFim Multi Sum\n66.36478399999942\nFim Multi Sum\n72.58988170000157\nFim Multi Sum\n65.2294327999989\nFim Multi Sum\n72.94720450000023\nFim Multi Sum\n72.51072740000018\nFim Multi Sum\n76.87902869999925\nFim Multi Sum\n66.29677789999914\nFim Multi Sum\n87.5501776000001\nFim Multi Sum\n69.40757029999986\nFim Multi Sum\n72.12219089999962\nFim Multi Sum\n72.17263020000064\nFim Multi Sum\n56.42581390000123\nFim Multi Sum\n58.3660873000008\nFim Multi Sum\n54.415138399999705\nFim Multi Sum\n55.58797589999995\nFim Multi Sum\n55.003276400000686\nFim Multi Sum\n57.37729239999862\nFim Multi Sum\n59.97636640000019\nFim Multi Sum\n56.869987399999445\nFim Multi Sum\n56.26748159999988\nFim Multi Sum\n53.18444009999985\nFim Multi Sum\n56.52925940000023\nFim Multi Sum\n57.86410839999917\nFim Multi Sum\n54.75524659999974\nFim Multi Sum\n56.30558629999905\nFim Multi Sum\n55.37220849999903\nFim Multi Sum\n54.67986000000019\nFim Multi Sum\n57.04508320000059\nFim Multi Sum\n54.431643500000064\nFim Multi Sum\n55.62224019999849\nFim Multi Sum\n57.87946860000011\nFim Multi Sum\n53.39287130000048\nFim Multi Sum\n56.891875600000276\nFim Multi Sum\n56.26496230000157\nFim Multi Sum\n57.00044499999967\nFim Multi Sum\n55.73661010000069\nFim Multi Sum\n60.6451691000002\nFim Multi Sum\n57.58911760000046\nFim Multi Sum\n57.485838100001274\nFim Multi Sum\n58.12621620000027\nFim Multi Sum\n54.89953249999962\nFim Multi Sum\n59.357293000000936\nFim Multi Sum\n57.06518420000066\nFim Multi Sum\n60.056824600000255\nFim Multi Sum\n58.78612219999923\nFim Multi Sum\n57.263598999999886\nFim Multi Sum\n56.37105059999885\nFim Multi Sum\n56.363166199998886\nFim Multi Sum\n54.77523719999954\nFim Multi Sum\n54.719306799999686\nFim Multi Sum\n54.24554470000112\nFim Multi Sum\n56.354246500000954\nFim Multi Sum\n57.69300649999968\nFim Multi Sum\n57.46398799999952\nFim Multi Sum\n58.615647499998886\nFim Multi Sum\n59.70624999999927\nFim Multi Sum\n58.04252989999986\nFim Multi Sum\n56.37630160000117\nFim Multi Sum\n56.1132063999994\nFim Multi Sum\n56.52611789999901\nFim Multi Sum\n56.76523439999983\nFim Multi Sum\n51.933839699999226\nFim Multi Sum\n51.32119469999998\nFim Multi Sum\n49.369261600000755\nFim Multi Sum\n50.367861799999446\nFim Multi Sum\n49.33623299999999\nFim Multi Sum\n49.31866479999917\nFim Multi Sum\n49.38276700000097\nFim Multi Sum\n48.87396609999996\nFim Multi Sum\n49.0700283999995\nFim Multi Sum\n49.95690299999842\nFim Multi Sum\n47.72331370000029\nFim Multi Sum\n49.18162150000171\nFim Multi Sum\n46.710139299999355\nFim Multi Sum\n47.129016599999886\nFim Multi Sum\n47.15479889999915\nFim Multi Sum\n51.061986999999135\nFim Multi Sum\n48.11520539999947\nFim Multi Sum\n48.05629980000049\nFim Multi Sum\n47.35845900000095\nFim Multi Sum\n50.14000300000043\nFim Multi Sum\n50.8303573000012\nFim Multi Sum\n46.97988540000006\nFim Multi Sum\n48.61281969999982\nFim Multi Sum\n45.753042899999855\nFim Multi Sum\n47.17636820000007\nFim Multi Sum\n46.98802219999925\nFim Multi Sum\n51.697545799999716\nFim Multi Sum\n50.752821300000505\nFim Multi Sum\n48.68305479999981\nFim Multi Sum\n46.803430100000696\nFim Multi Sum\n46.41333510000186\nFim Multi Sum\n48.034273200002644\nFim Multi Sum\n46.34412929999962\nFim Multi Sum\n45.554931400001806\nFim Multi Sum\n47.381175799997436\nFim Multi Sum\n45.30577930000072\nFim Multi Sum\n46.045747299998766\nFim Multi Sum\n45.31631750000088\nFim Multi Sum\n46.81060190000062\nFim Multi Sum\n47.409306300000026\nFim Multi Sum\n48.133566399999836\nFim Multi Sum\n47.777478100000735\nFim Multi Sum\n46.47724179999932\nFim Multi Sum\n47.36728849999781\nFim Multi Sum\n47.77185829999871\nFim Multi Sum\n49.20309549999729\nFim Multi Sum\n47.339871699998184\nFim Multi Sum\n45.69594540000253\nFim Multi Sum\n45.531868699999904\nFim Multi Sum\n48.017513800001325\nFim Multi Sum\n47.87634969999999\nFim Multi Sum\n45.29562430000078\nFim Multi Sum\n44.604650199999014\nFim Multi Sum\n42.959943400001066\nFim Multi Sum\n44.314466599997104\nFim Multi Sum\n44.58123060000071\nFim Multi Sum\n42.92407750000348\nFim Multi Sum\n46.277061500000855\nFim Multi Sum\n43.94996060000267\nFim Multi Sum\n43.71091520000118\nFim Multi Sum\n43.25775799999974\nFim Multi Sum\n42.88426719999916\nFim Multi Sum\n43.71350619999794\nFim Multi Sum\n41.925686399998085\nFim Multi Sum\n41.87766329999795\nFim Multi Sum\n44.439431399998284\nFim Multi Sum\n44.43824830000085\nFim Multi Sum\n43.327514799999335\nFim Multi Sum\n45.734816399999545\nFim Multi Sum\n44.369705900000554\nFim Multi Sum\n46.168520200000785\nFim Multi Sum\n41.92815029999838\nFim Multi Sum\n42.509495099999185\nFim Multi Sum\n43.686168300002464\nFim Multi Sum\n43.51389730000301\nFim Multi Sum\n43.40686979999737\nFim Multi Sum\n43.289740000000165\nFim Multi Sum\n43.84069139999701\nFim Multi Sum\n46.43700710000121\nFim Multi Sum\n48.48761569999988\nFim Multi Sum\n48.764891299997544\nFim Multi Sum\n46.06238049999956\nFim Multi Sum\n43.706192499998\nFim Multi Sum\n45.463678599997365\nFim Multi Sum\n49.18436780000047\nFim Multi Sum\n45.72597079999832\nFim Multi Sum\n46.57452200000262\nFim Multi Sum\n44.36958860000232\nFim Multi Sum\n43.04369889999725\nFim Multi Sum\n43.586729900001956\nFim Multi Sum\n43.494396699999925\nFim Multi Sum\n41.84397499999977\nFim Multi Sum\n45.201994600000035\nFim Multi Sum\n45.329611999997724\nFim Multi Sum\n43.86097879999943\nFim Multi Sum\n44.94260029999714\nFim Multi Sum\n46.00138750000042\nFim Multi Sum\n44.903738399996655\nFim Multi Sum\n42.44520439999906\nFim Multi Sum\n42.47238880000077\nFim Multi Sum\n42.89902319999965\nFim Multi Sum\n42.47403140000097\nFim Multi Sum\n42.66762849999941\nFim Multi Sum\n45.12811090000105\nFim Multi Sum\n42.02121529999931\nFim Multi Sum\n43.798558200000116\nFim Multi Sum\n43.82449659999838\nFim Multi Sum\n41.82905579999715\nFim Multi Sum\n41.49803350000002\nFim Multi Sum\n42.525810099999944\nFim Multi Sum\n43.28867320000063\nFim Multi Sum\n44.53471310000168\nFim Multi Sum\n45.778091300002416\nFim Multi Sum\n43.0214066999979\nFim Multi Sum\n42.89648870000019\nFim Multi Sum\n42.49759549999726\nFim Multi Sum\n42.57353160000275\nFim Multi Sum\n42.68869350000023\nFim Multi Sum\n42.336040900001535\nFim Multi Sum\n41.97247000000061\nFim Multi Sum\n45.40098410000064\nFim Multi Sum\n45.00555130000066\nFim Multi Sum\n45.79616689999966\nFim Multi Sum\n42.893477300000086\nFim Multi Sum\n42.10725269999966\nFim Multi Sum\n43.948843999998644\nFim Multi Sum\n44.38693550000244\nFim Multi Sum\n46.054651500002365\nFim Multi Sum\n44.623083500002394\nFim Multi Sum\n44.35479570000098\nFim Multi Sum\n45.35980800000107\nFim Multi Sum\n44.39312820000123\nFim Multi Sum\n44.4602836999984\nFim Multi Sum\n44.70633710000038\nFim Multi Sum\n46.384250999999495\nFim Multi Sum\n43.903669100000116\nFim Multi Sum\n42.9573326000027\nFim Multi Sum\n42.6768536999989\nFim Multi Sum\n43.97099470000103\nFim Multi Sum\n45.29739530000006\nFim Multi Sum\n45.0006867000011\nFim Multi Sum\n43.892235499999515\nFim Multi Sum\n43.82555849999699\nFim Multi Sum\n42.79209329999867\nFim Multi Sum\n44.393799900000886\nFim Multi Sum\n44.211978100000124\nFim Multi Sum\n42.07240400000228\nFim Multi Sum\n47.09388519999993\nFim Multi Sum\n44.41953330000251\nFim Multi Sum\n42.30714900000021\n"
    }
   ],
   "source": [
    "graph_dic = []\n",
    "# GERA VALORES DA THREAD MEDINDO TEMPO DE EXECUCAO\n",
    "\n",
    "for lista in listas:\n",
    "\n",
    "    for K in Ks:\n",
    "        for i in range(50):\n",
    "            start = timeit.default_timer()\n",
    "\n",
    "            total = 0 \n",
    "\n",
    "            MultiSum(lista,K)\n",
    "\n",
    "            stop = timeit.default_timer()\n",
    "            execution_time = stop - start\n",
    "\n",
    "            print(execution_time)\n",
    "\n",
    "            graph_dic.append({'K':K,'Tamanho':len(lista), 'execution_time' :execution_time })"
   ]
  },
  {
   "cell_type": "code",
   "execution_count": 50,
   "metadata": {},
   "outputs": [],
   "source": [
    "pd.DataFrame(graph_dic).to_csv('x.csv', index = False, sep =';', decimal =',')"
   ]
  }
 ],
 "metadata": {
  "kernelspec": {
   "display_name": "Python 3",
   "language": "python",
   "name": "python3"
  },
  "language_info": {
   "codemirror_mode": {
    "name": "ipython",
    "version": 3
   },
   "file_extension": ".py",
   "mimetype": "text/x-python",
   "name": "python",
   "nbconvert_exporter": "python",
   "pygments_lexer": "ipython3",
   "version": "3.7.4-final"
  }
 },
 "nbformat": 4,
 "nbformat_minor": 4
}